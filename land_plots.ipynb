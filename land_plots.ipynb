{
 "cells": [
  {
   "cell_type": "code",
   "execution_count": 1,
   "metadata": {},
   "outputs": [],
   "source": [
    "import geojson\n",
    "import json\n",
    "import requests\n",
    "import pandas as pd\n",
    "import time\n",
    "import os"
   ]
  },
  {
   "cell_type": "code",
   "execution_count": 8,
   "metadata": {},
   "outputs": [],
   "source": [
    "# Load the CSV file\n",
    "csv_file_path = 'land_plots.csv'\n",
    "df = pd.read_csv(csv_file_path)"
   ]
  },
  {
   "cell_type": "code",
   "execution_count": null,
   "metadata": {},
   "outputs": [],
   "source": [
    "# URL for the API\n",
    "url = 'https://plot.search.api.ongeo.pl/1.0/autocomplete'\n",
    "\n",
    "save_path = '/Users/anastasiiamorozova/Downloads/działki'\n",
    "processed_files = set(os.listdir(save_path))\n",
    "\n",
    "\n",
    "for index, row in df.iterrows():\n",
    "    identifier = row['Identyfikator działki']\n",
    "    nr_działki = row['Nr działki']\n",
    "    json_filename = f\"{nr_działki}.json\"\n",
    "    file_path = os.path.join(save_path, json_filename)\n",
    "    \n",
    "        # Skip processing if the file already exists\n",
    "    if json_filename in processed_files:\n",
    "        print(f\"Skipping {nr_działki}, already processed.\")\n",
    "        continue\n",
    "\n",
    "    params = {\n",
    "            'query': identifier,\n",
    "            'api_key': 'a9968cb3-5b6e-4c6a-a06c-97904fd58f4b',\n",
    "            'maxresults': '5',\n",
    "            'additionalData': 'boundary'\n",
    "        }\n",
    "    headers = {\n",
    "            'Referer': 'https://geoportal-krajowy.pl/'\n",
    "        }\n",
    "\n",
    "        # Make the GET request\n",
    "    response = requests.get(url, headers=headers, params=params)\n",
    "\n",
    "    if response.status_code == 200:\n",
    "        with open(file_path, 'w') as file:\n",
    "            json.dump(response.json(), file, indent=4)\n",
    "        print(f\"Data for {nr_działki} saved successfully.\")\n",
    "    else:\n",
    "        print(f\"Failed for {nr_działki}) with status code {response.status_code}\")\n",
    "\n",
    "    # Sleep for 5 seconds after each request\n",
    "    time.sleep(5)"
   ]
  },
  {
   "cell_type": "code",
   "execution_count": 16,
   "metadata": {},
   "outputs": [
    {
     "name": "stdout",
     "output_type": "stream",
     "text": [
      "Combined GeoJSON file has been created and saved.\n"
     ]
    }
   ],
   "source": [
    "# Define the directory containing the JSON files\n",
    "json_directory_path = '/Users/anastasiiamorozova/Downloads/działki'  \n",
    "\n",
    "# Initialize an empty GeoJSON FeatureCollection\n",
    "geojson = {\n",
    "    \"type\": \"FeatureCollection\",\n",
    "    \"features\": []\n",
    "}\n",
    "\n",
    "# Loop through every file in the directory\n",
    "for filename in os.listdir(json_directory_path):\n",
    "    if filename.endswith('.json'):  # Check if the file is a JSON file\n",
    "        file_path = os.path.join(json_directory_path, filename)\n",
    "        \n",
    "        # Open and read the JSON file\n",
    "        with open(file_path, 'r') as file:\n",
    "            data = json.load(file)\n",
    "        \n",
    "        # Process each item in the JSON array (assuming each file contains an array)\n",
    "        for item in data:\n",
    "            if \"boundary\" in item:\n",
    "                # Create a GeoJSON feature using the boundary\n",
    "                feature = {\n",
    "                    \"type\": \"Feature\",\n",
    "                    \"properties\": {\n",
    "                        \"label\": item.get(\"label\", \"No Label\"),\n",
    "                        \"area\": item.get(\"area\", None),\n",
    "                        \"globalId\": item.get(\"globalId\", \"No Global ID\")\n",
    "                        # add more properties if needed\n",
    "                    },\n",
    "                    \"geometry\": item[\"boundary\"]\n",
    "                }\n",
    "                geojson[\"features\"].append(feature)\n",
    "\n",
    "# Save the consolidated GeoJSON \n",
    "geojson_file_path = '/Users/anastasiiamorozova/Downloads/land_plots.geojson'\n",
    "with open(geojson_file_path, 'w') as f:\n",
    "    json.dump(geojson, f, indent=4)\n",
    "\n",
    "print(\"Combined GeoJSON file has been created and saved.\")\n"
   ]
  }
 ],
 "metadata": {
  "kernelspec": {
   "display_name": "Python 3",
   "language": "python",
   "name": "python3"
  },
  "language_info": {
   "codemirror_mode": {
    "name": "ipython",
    "version": 3
   },
   "file_extension": ".py",
   "mimetype": "text/x-python",
   "name": "python",
   "nbconvert_exporter": "python",
   "pygments_lexer": "ipython3",
   "version": "3.9.6"
  }
 },
 "nbformat": 4,
 "nbformat_minor": 2
}
